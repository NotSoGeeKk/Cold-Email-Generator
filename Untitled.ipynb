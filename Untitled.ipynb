{
 "cells": [
  {
   "cell_type": "code",
   "execution_count": 1,
   "id": "43e562ac",
   "metadata": {},
   "outputs": [
    {
     "name": "stdout",
     "output_type": "stream",
     "text": [
      "Collecting langchainNote: you may need to restart the kernel to use updated packages.\n",
      "\n",
      "  Obtaining dependency information for langchain from https://files.pythonhosted.org/packages/49/09/72630413a7ded27684e33392a0ff52ff1c8ea6749fee641319e75f82072b/langchain-0.3.7-py3-none-any.whl.metadata\n",
      "  Downloading langchain-0.3.7-py3-none-any.whl.metadata (7.1 kB)\n",
      "Requirement already satisfied: PyYAML>=5.3 in c:\\users\\samar\\anaconda3\\anaconda\\lib\\site-packages (from langchain) (6.0)\n",
      "Requirement already satisfied: SQLAlchemy<3,>=1.4 in c:\\users\\samar\\anaconda3\\anaconda\\lib\\site-packages (from langchain) (1.4.39)\n",
      "Requirement already satisfied: aiohttp<4.0.0,>=3.8.3 in c:\\users\\samar\\anaconda3\\anaconda\\lib\\site-packages (from langchain) (3.8.3)\n",
      "Collecting langchain-core<0.4.0,>=0.3.15 (from langchain)\n",
      "  Obtaining dependency information for langchain-core<0.4.0,>=0.3.15 from https://files.pythonhosted.org/packages/cf/0e/9b0c2214a371e99d26586c7a61f8c8af5b1150d46c8fa10d9b58e3c5bfa2/langchain_core-0.3.15-py3-none-any.whl.metadata\n",
      "  Downloading langchain_core-0.3.15-py3-none-any.whl.metadata (6.3 kB)\n",
      "Collecting langchain-text-splitters<0.4.0,>=0.3.0 (from langchain)\n",
      "  Obtaining dependency information for langchain-text-splitters<0.4.0,>=0.3.0 from https://files.pythonhosted.org/packages/ee/c6/5ba25c8bad647e92a92b3066177ab10d78efbd16c0b9919948cdcd18b027/langchain_text_splitters-0.3.2-py3-none-any.whl.metadata\n",
      "  Downloading langchain_text_splitters-0.3.2-py3-none-any.whl.metadata (2.3 kB)\n",
      "Collecting langsmith<0.2.0,>=0.1.17 (from langchain)\n",
      "  Obtaining dependency information for langsmith<0.2.0,>=0.1.17 from https://files.pythonhosted.org/packages/8e/36/1ab6bf198185fef9c044d7a4a774e6beeac4c5c62971d4434b82e467a0d5/langsmith-0.1.141-py3-none-any.whl.metadata\n",
      "  Downloading langsmith-0.1.141-py3-none-any.whl.metadata (13 kB)\n",
      "Requirement already satisfied: numpy<2,>=1 in c:\\users\\samar\\anaconda3\\anaconda\\lib\\site-packages (from langchain) (1.24.3)\n",
      "Collecting pydantic<3.0.0,>=2.7.4 (from langchain)\n",
      "  Obtaining dependency information for pydantic<3.0.0,>=2.7.4 from https://files.pythonhosted.org/packages/df/e4/ba44652d562cbf0bf320e0f3810206149c8a4e99cdbf66da82e97ab53a15/pydantic-2.9.2-py3-none-any.whl.metadata\n",
      "  Downloading pydantic-2.9.2-py3-none-any.whl.metadata (149 kB)\n",
      "     ---------------------------------------- 0.0/149.4 kB ? eta -:--:--\n",
      "     -------- ------------------------------ 30.7/149.4 kB 1.3 MB/s eta 0:00:01\n",
      "     ------------------------------- ------ 122.9/149.4 kB 1.2 MB/s eta 0:00:01\n",
      "     -------------------------------------- 149.4/149.4 kB 1.3 MB/s eta 0:00:00\n",
      "Requirement already satisfied: requests<3,>=2 in c:\\users\\samar\\anaconda3\\anaconda\\lib\\site-packages (from langchain) (2.31.0)\n",
      "Requirement already satisfied: tenacity!=8.4.0,<10,>=8.1.0 in c:\\users\\samar\\anaconda3\\anaconda\\lib\\site-packages (from langchain) (8.2.2)\n",
      "Requirement already satisfied: attrs>=17.3.0 in c:\\users\\samar\\anaconda3\\anaconda\\lib\\site-packages (from aiohttp<4.0.0,>=3.8.3->langchain) (22.1.0)\n",
      "Requirement already satisfied: charset-normalizer<3.0,>=2.0 in c:\\users\\samar\\anaconda3\\anaconda\\lib\\site-packages (from aiohttp<4.0.0,>=3.8.3->langchain) (2.0.4)\n",
      "Requirement already satisfied: multidict<7.0,>=4.5 in c:\\users\\samar\\anaconda3\\anaconda\\lib\\site-packages (from aiohttp<4.0.0,>=3.8.3->langchain) (6.0.2)\n",
      "Requirement already satisfied: async-timeout<5.0,>=4.0.0a3 in c:\\users\\samar\\anaconda3\\anaconda\\lib\\site-packages (from aiohttp<4.0.0,>=3.8.3->langchain) (4.0.2)\n",
      "Requirement already satisfied: yarl<2.0,>=1.0 in c:\\users\\samar\\anaconda3\\anaconda\\lib\\site-packages (from aiohttp<4.0.0,>=3.8.3->langchain) (1.8.1)\n",
      "Requirement already satisfied: frozenlist>=1.1.1 in c:\\users\\samar\\anaconda3\\anaconda\\lib\\site-packages (from aiohttp<4.0.0,>=3.8.3->langchain) (1.3.3)\n",
      "Requirement already satisfied: aiosignal>=1.1.2 in c:\\users\\samar\\anaconda3\\anaconda\\lib\\site-packages (from aiohttp<4.0.0,>=3.8.3->langchain) (1.2.0)\n",
      "Collecting jsonpatch<2.0,>=1.33 (from langchain-core<0.4.0,>=0.3.15->langchain)\n",
      "  Obtaining dependency information for jsonpatch<2.0,>=1.33 from https://files.pythonhosted.org/packages/73/07/02e16ed01e04a374e644b575638ec7987ae846d25ad97bcc9945a3ee4b0e/jsonpatch-1.33-py2.py3-none-any.whl.metadata\n",
      "  Downloading jsonpatch-1.33-py2.py3-none-any.whl.metadata (3.0 kB)\n",
      "Collecting packaging<25,>=23.2 (from langchain-core<0.4.0,>=0.3.15->langchain)\n",
      "  Obtaining dependency information for packaging<25,>=23.2 from https://files.pythonhosted.org/packages/88/ef/eb23f262cca3c0c4eb7ab1933c3b1f03d021f2c48f54763065b6f0e321be/packaging-24.2-py3-none-any.whl.metadata\n",
      "  Downloading packaging-24.2-py3-none-any.whl.metadata (3.2 kB)\n",
      "Requirement already satisfied: typing-extensions>=4.7 in c:\\users\\samar\\anaconda3\\anaconda\\lib\\site-packages (from langchain-core<0.4.0,>=0.3.15->langchain) (4.7.1)\n",
      "Collecting httpx<1,>=0.23.0 (from langsmith<0.2.0,>=0.1.17->langchain)\n",
      "  Obtaining dependency information for httpx<1,>=0.23.0 from https://files.pythonhosted.org/packages/56/95/9377bcb415797e44274b51d46e3249eba641711cf3348050f76ee7b15ffc/httpx-0.27.2-py3-none-any.whl.metadata\n",
      "  Downloading httpx-0.27.2-py3-none-any.whl.metadata (7.1 kB)\n",
      "Collecting orjson<4.0.0,>=3.9.14 (from langsmith<0.2.0,>=0.1.17->langchain)\n",
      "  Obtaining dependency information for orjson<4.0.0,>=3.9.14 from https://files.pythonhosted.org/packages/7d/68/ef7b920e0a09e02b1a30daca1b4864938463797995c2fabe457c1500220a/orjson-3.10.11-cp311-none-win_amd64.whl.metadata\n",
      "  Downloading orjson-3.10.11-cp311-none-win_amd64.whl.metadata (52 kB)\n",
      "     ---------------------------------------- 0.0/52.0 kB ? eta -:--:--\n",
      "     ---------------------------------------- 52.0/52.0 kB ? eta 0:00:00\n",
      "Requirement already satisfied: requests-toolbelt<2.0.0,>=1.0.0 in c:\\users\\samar\\anaconda3\\anaconda\\lib\\site-packages (from langsmith<0.2.0,>=0.1.17->langchain) (1.0.0)\n",
      "Collecting annotated-types>=0.6.0 (from pydantic<3.0.0,>=2.7.4->langchain)\n",
      "  Obtaining dependency information for annotated-types>=0.6.0 from https://files.pythonhosted.org/packages/78/b6/6307fbef88d9b5ee7421e68d78a9f162e0da4900bc5f5793f6d3d0e34fb8/annotated_types-0.7.0-py3-none-any.whl.metadata\n",
      "  Downloading annotated_types-0.7.0-py3-none-any.whl.metadata (15 kB)\n",
      "Collecting pydantic-core==2.23.4 (from pydantic<3.0.0,>=2.7.4->langchain)\n",
      "  Obtaining dependency information for pydantic-core==2.23.4 from https://files.pythonhosted.org/packages/2f/76/37b7e76c645843ff46c1d73e046207311ef298d3f7b2f7d8f6ac60113071/pydantic_core-2.23.4-cp311-none-win_amd64.whl.metadata\n",
      "  Downloading pydantic_core-2.23.4-cp311-none-win_amd64.whl.metadata (6.7 kB)\n",
      "Requirement already satisfied: idna<4,>=2.5 in c:\\users\\samar\\anaconda3\\anaconda\\lib\\site-packages (from requests<3,>=2->langchain) (3.4)\n",
      "Requirement already satisfied: urllib3<3,>=1.21.1 in c:\\users\\samar\\anaconda3\\anaconda\\lib\\site-packages (from requests<3,>=2->langchain) (1.26.16)\n",
      "Requirement already satisfied: certifi>=2017.4.17 in c:\\users\\samar\\anaconda3\\anaconda\\lib\\site-packages (from requests<3,>=2->langchain) (2023.7.22)\n",
      "Requirement already satisfied: greenlet!=0.4.17 in c:\\users\\samar\\anaconda3\\anaconda\\lib\\site-packages (from SQLAlchemy<3,>=1.4->langchain) (2.0.1)\n",
      "Requirement already satisfied: anyio in c:\\users\\samar\\anaconda3\\anaconda\\lib\\site-packages (from httpx<1,>=0.23.0->langsmith<0.2.0,>=0.1.17->langchain) (3.5.0)\n",
      "Collecting httpcore==1.* (from httpx<1,>=0.23.0->langsmith<0.2.0,>=0.1.17->langchain)\n",
      "  Obtaining dependency information for httpcore==1.* from https://files.pythonhosted.org/packages/06/89/b161908e2f51be56568184aeb4a880fd287178d176fd1c860d2217f41106/httpcore-1.0.6-py3-none-any.whl.metadata\n",
      "  Downloading httpcore-1.0.6-py3-none-any.whl.metadata (21 kB)\n",
      "Requirement already satisfied: sniffio in c:\\users\\samar\\anaconda3\\anaconda\\lib\\site-packages (from httpx<1,>=0.23.0->langsmith<0.2.0,>=0.1.17->langchain) (1.2.0)\n",
      "Collecting h11<0.15,>=0.13 (from httpcore==1.*->httpx<1,>=0.23.0->langsmith<0.2.0,>=0.1.17->langchain)\n",
      "  Obtaining dependency information for h11<0.15,>=0.13 from https://files.pythonhosted.org/packages/95/04/ff642e65ad6b90db43e668d70ffb6736436c7ce41fcc549f4e9472234127/h11-0.14.0-py3-none-any.whl.metadata\n",
      "  Downloading h11-0.14.0-py3-none-any.whl.metadata (8.2 kB)\n",
      "Requirement already satisfied: jsonpointer>=1.9 in c:\\users\\samar\\anaconda3\\anaconda\\lib\\site-packages (from jsonpatch<2.0,>=1.33->langchain-core<0.4.0,>=0.3.15->langchain) (2.1)\n",
      "Downloading langchain-0.3.7-py3-none-any.whl (1.0 MB)\n",
      "   ---------------------------------------- 0.0/1.0 MB ? eta -:--:--\n",
      "   ---- ----------------------------------- 0.1/1.0 MB 6.4 MB/s eta 0:00:01\n",
      "   ------ --------------------------------- 0.2/1.0 MB 2.4 MB/s eta 0:00:01\n",
      "   ---------------- ----------------------- 0.4/1.0 MB 3.3 MB/s eta 0:00:01\n",
      "   --------------------------------- ------ 0.8/1.0 MB 4.9 MB/s eta 0:00:01\n",
      "   ---------------------------------------- 1.0/1.0 MB 4.9 MB/s eta 0:00:00\n",
      "Downloading langchain_core-0.3.15-py3-none-any.whl (408 kB)\n",
      "   ---------------------------------------- 0.0/408.7 kB ? eta -:--:--\n",
      "   --------------------------------------- 408.7/408.7 kB 12.9 MB/s eta 0:00:00\n",
      "Downloading langchain_text_splitters-0.3.2-py3-none-any.whl (25 kB)\n",
      "Downloading langsmith-0.1.141-py3-none-any.whl (306 kB)\n",
      "   ---------------------------------------- 0.0/306.6 kB ? eta -:--:--\n",
      "   ---------------------------------------- 306.6/306.6 kB 9.6 MB/s eta 0:00:00\n",
      "Downloading pydantic-2.9.2-py3-none-any.whl (434 kB)\n",
      "   ---------------------------------------- 0.0/434.9 kB ? eta -:--:--\n",
      "   --------------------------------------- 434.9/434.9 kB 13.7 MB/s eta 0:00:00\n",
      "Downloading pydantic_core-2.23.4-cp311-none-win_amd64.whl (1.9 MB)\n",
      "   ---------------------------------------- 0.0/1.9 MB ? eta -:--:--\n",
      "   -------- ------------------------------- 0.4/1.9 MB 13.1 MB/s eta 0:00:01\n",
      "   ----------------- ---------------------- 0.8/1.9 MB 10.2 MB/s eta 0:00:01\n",
      "   --------------------------- ------------ 1.3/1.9 MB 10.3 MB/s eta 0:00:01\n",
      "   ---------------------------- ----------- 1.4/1.9 MB 10.8 MB/s eta 0:00:01\n",
      "   ----------------------------------- ---- 1.7/1.9 MB 7.8 MB/s eta 0:00:01\n",
      "   ---------------------------------------- 1.9/1.9 MB 8.1 MB/s eta 0:00:00\n",
      "Downloading annotated_types-0.7.0-py3-none-any.whl (13 kB)\n",
      "Downloading httpx-0.27.2-py3-none-any.whl (76 kB)\n",
      "   ---------------------------------------- 0.0/76.4 kB ? eta -:--:--\n",
      "   ---------------------------------------- 76.4/76.4 kB 4.4 MB/s eta 0:00:00\n",
      "Downloading httpcore-1.0.6-py3-none-any.whl (78 kB)\n",
      "   ---------------------------------------- 0.0/78.0 kB ? eta -:--:--\n",
      "   ---------------------------------------- 78.0/78.0 kB ? eta 0:00:00\n",
      "Downloading jsonpatch-1.33-py2.py3-none-any.whl (12 kB)\n",
      "Downloading orjson-3.10.11-cp311-none-win_amd64.whl (136 kB)\n",
      "   ---------------------------------------- 0.0/136.4 kB ? eta -:--:--\n",
      "   ---------------------------------------- 136.4/136.4 kB ? eta 0:00:00\n",
      "Downloading packaging-24.2-py3-none-any.whl (65 kB)\n",
      "   ---------------------------------------- 0.0/65.5 kB ? eta -:--:--\n",
      "   ---------------------------------------- 65.5/65.5 kB ? eta 0:00:00\n",
      "Downloading h11-0.14.0-py3-none-any.whl (58 kB)\n",
      "   ---------------------------------------- 0.0/58.3 kB ? eta -:--:--\n",
      "   ---------------------------------------- 58.3/58.3 kB ? eta 0:00:00\n",
      "Installing collected packages: pydantic-core, packaging, orjson, jsonpatch, h11, annotated-types, pydantic, httpcore, httpx, langsmith, langchain-core, langchain-text-splitters, langchain\n",
      "  Attempting uninstall: pydantic-core\n",
      "    Found existing installation: pydantic_core 2.10.1\n",
      "    Uninstalling pydantic_core-2.10.1:\n",
      "      Successfully uninstalled pydantic_core-2.10.1\n",
      "  Attempting uninstall: packaging\n",
      "    Found existing installation: packaging 23.0\n",
      "    Uninstalling packaging-23.0:\n",
      "      Successfully uninstalled packaging-23.0\n",
      "  Attempting uninstall: jsonpatch\n",
      "    Found existing installation: jsonpatch 1.32\n",
      "    Uninstalling jsonpatch-1.32:\n",
      "      Successfully uninstalled jsonpatch-1.32\n",
      "  Attempting uninstall: annotated-types\n",
      "    Found existing installation: annotated-types 0.5.0\n",
      "    Uninstalling annotated-types-0.5.0:\n",
      "      Successfully uninstalled annotated-types-0.5.0\n",
      "  Attempting uninstall: pydantic\n",
      "    Found existing installation: pydantic 2.4.2\n",
      "    Uninstalling pydantic-2.4.2:\n",
      "      Successfully uninstalled pydantic-2.4.2\n",
      "Successfully installed annotated-types-0.7.0 h11-0.14.0 httpcore-1.0.6 httpx-0.27.2 jsonpatch-1.33 langchain-0.3.7 langchain-core-0.3.15 langchain-text-splitters-0.3.2 langsmith-0.1.141 orjson-3.10.11 packaging-24.2 pydantic-2.9.2 pydantic-core-2.23.4\n"
     ]
    },
    {
     "name": "stderr",
     "output_type": "stream",
     "text": [
      "ERROR: pip's dependency resolver does not currently take into account all the packages that are installed. This behaviour is the source of the following dependency conflicts.\n",
      "tables 3.8.0 requires blosc2~=2.0.0, which is not installed.\n",
      "tables 3.8.0 requires cython>=0.29.21, which is not installed.\n",
      "confection 0.1.3 requires srsly<3.0.0,>=2.4.0, but you have srsly 1.0.7 which is incompatible.\n",
      "python-lsp-black 1.2.1 requires black>=22.3.0, but you have black 0.0 which is incompatible.\n",
      "streamlit 1.27.0 requires packaging<24,>=16.8, but you have packaging 24.2 which is incompatible.\n"
     ]
    }
   ],
   "source": [
    "pip install langchain"
   ]
  },
  {
   "cell_type": "code",
   "execution_count": 2,
   "id": "28b72c28",
   "metadata": {},
   "outputs": [
    {
     "name": "stdout",
     "output_type": "stream",
     "text": [
      "Collecting langchain-groq\n",
      "  Obtaining dependency information for langchain-groq from https://files.pythonhosted.org/packages/e3/ed/bf857c2857a7aa1f9b1d436c668a3f1a4071cb2bb6f1d247f98f1ebb3f0a/langchain_groq-0.2.1-py3-none-any.whl.metadata\n",
      "  Downloading langchain_groq-0.2.1-py3-none-any.whl.metadata (2.9 kB)\n",
      "Collecting groq<1,>=0.4.1 (from langchain-groq)\n",
      "  Obtaining dependency information for groq<1,>=0.4.1 from https://files.pythonhosted.org/packages/94/c3/8bf3cd2987e262f9fd45024313dae1d009edaa7a5b429566edfdaedaa024/groq-0.11.0-py3-none-any.whl.metadata\n",
      "  Downloading groq-0.11.0-py3-none-any.whl.metadata (13 kB)\n",
      "Requirement already satisfied: langchain-core<0.4.0,>=0.3.15 in c:\\users\\samar\\anaconda3\\anaconda\\lib\\site-packages (from langchain-groq) (0.3.15)\n",
      "Requirement already satisfied: anyio<5,>=3.5.0 in c:\\users\\samar\\anaconda3\\anaconda\\lib\\site-packages (from groq<1,>=0.4.1->langchain-groq) (3.5.0)\n",
      "Collecting distro<2,>=1.7.0 (from groq<1,>=0.4.1->langchain-groq)\n",
      "  Obtaining dependency information for distro<2,>=1.7.0 from https://files.pythonhosted.org/packages/12/b3/231ffd4ab1fc9d679809f356cebee130ac7daa00d6d6f3206dd4fd137e9e/distro-1.9.0-py3-none-any.whl.metadata\n",
      "  Downloading distro-1.9.0-py3-none-any.whl.metadata (6.8 kB)\n",
      "Requirement already satisfied: httpx<1,>=0.23.0 in c:\\users\\samar\\anaconda3\\anaconda\\lib\\site-packages (from groq<1,>=0.4.1->langchain-groq) (0.27.2)\n",
      "Requirement already satisfied: pydantic<3,>=1.9.0 in c:\\users\\samar\\anaconda3\\anaconda\\lib\\site-packages (from groq<1,>=0.4.1->langchain-groq) (2.9.2)\n",
      "Requirement already satisfied: sniffio in c:\\users\\samar\\anaconda3\\anaconda\\lib\\site-packages (from groq<1,>=0.4.1->langchain-groq) (1.2.0)\n",
      "Requirement already satisfied: typing-extensions<5,>=4.7 in c:\\users\\samar\\anaconda3\\anaconda\\lib\\site-packages (from groq<1,>=0.4.1->langchain-groq) (4.7.1)\n",
      "Requirement already satisfied: PyYAML>=5.3 in c:\\users\\samar\\anaconda3\\anaconda\\lib\\site-packages (from langchain-core<0.4.0,>=0.3.15->langchain-groq) (6.0)\n",
      "Requirement already satisfied: jsonpatch<2.0,>=1.33 in c:\\users\\samar\\anaconda3\\anaconda\\lib\\site-packages (from langchain-core<0.4.0,>=0.3.15->langchain-groq) (1.33)\n",
      "Requirement already satisfied: langsmith<0.2.0,>=0.1.125 in c:\\users\\samar\\anaconda3\\anaconda\\lib\\site-packages (from langchain-core<0.4.0,>=0.3.15->langchain-groq) (0.1.141)\n",
      "Requirement already satisfied: packaging<25,>=23.2 in c:\\users\\samar\\anaconda3\\anaconda\\lib\\site-packages (from langchain-core<0.4.0,>=0.3.15->langchain-groq) (24.2)\n",
      "Requirement already satisfied: tenacity!=8.4.0,<10.0.0,>=8.1.0 in c:\\users\\samar\\anaconda3\\anaconda\\lib\\site-packages (from langchain-core<0.4.0,>=0.3.15->langchain-groq) (8.2.2)\n",
      "Requirement already satisfied: idna>=2.8 in c:\\users\\samar\\anaconda3\\anaconda\\lib\\site-packages (from anyio<5,>=3.5.0->groq<1,>=0.4.1->langchain-groq) (3.4)\n",
      "Requirement already satisfied: certifi in c:\\users\\samar\\anaconda3\\anaconda\\lib\\site-packages (from httpx<1,>=0.23.0->groq<1,>=0.4.1->langchain-groq) (2023.7.22)\n",
      "Requirement already satisfied: httpcore==1.* in c:\\users\\samar\\anaconda3\\anaconda\\lib\\site-packages (from httpx<1,>=0.23.0->groq<1,>=0.4.1->langchain-groq) (1.0.6)\n",
      "Requirement already satisfied: h11<0.15,>=0.13 in c:\\users\\samar\\anaconda3\\anaconda\\lib\\site-packages (from httpcore==1.*->httpx<1,>=0.23.0->groq<1,>=0.4.1->langchain-groq) (0.14.0)\n",
      "Requirement already satisfied: jsonpointer>=1.9 in c:\\users\\samar\\anaconda3\\anaconda\\lib\\site-packages (from jsonpatch<2.0,>=1.33->langchain-core<0.4.0,>=0.3.15->langchain-groq) (2.1)\n",
      "Requirement already satisfied: orjson<4.0.0,>=3.9.14 in c:\\users\\samar\\anaconda3\\anaconda\\lib\\site-packages (from langsmith<0.2.0,>=0.1.125->langchain-core<0.4.0,>=0.3.15->langchain-groq) (3.10.11)\n",
      "Requirement already satisfied: requests<3,>=2 in c:\\users\\samar\\anaconda3\\anaconda\\lib\\site-packages (from langsmith<0.2.0,>=0.1.125->langchain-core<0.4.0,>=0.3.15->langchain-groq) (2.31.0)\n",
      "Requirement already satisfied: requests-toolbelt<2.0.0,>=1.0.0 in c:\\users\\samar\\anaconda3\\anaconda\\lib\\site-packages (from langsmith<0.2.0,>=0.1.125->langchain-core<0.4.0,>=0.3.15->langchain-groq) (1.0.0)\n",
      "Requirement already satisfied: annotated-types>=0.6.0 in c:\\users\\samar\\anaconda3\\anaconda\\lib\\site-packages (from pydantic<3,>=1.9.0->groq<1,>=0.4.1->langchain-groq) (0.7.0)\n",
      "Requirement already satisfied: pydantic-core==2.23.4 in c:\\users\\samar\\anaconda3\\anaconda\\lib\\site-packages (from pydantic<3,>=1.9.0->groq<1,>=0.4.1->langchain-groq) (2.23.4)\n",
      "Requirement already satisfied: charset-normalizer<4,>=2 in c:\\users\\samar\\anaconda3\\anaconda\\lib\\site-packages (from requests<3,>=2->langsmith<0.2.0,>=0.1.125->langchain-core<0.4.0,>=0.3.15->langchain-groq) (2.0.4)\n",
      "Requirement already satisfied: urllib3<3,>=1.21.1 in c:\\users\\samar\\anaconda3\\anaconda\\lib\\site-packages (from requests<3,>=2->langsmith<0.2.0,>=0.1.125->langchain-core<0.4.0,>=0.3.15->langchain-groq) (1.26.16)\n",
      "Downloading langchain_groq-0.2.1-py3-none-any.whl (14 kB)\n",
      "Downloading groq-0.11.0-py3-none-any.whl (106 kB)\n",
      "   ---------------------------------------- 0.0/106.5 kB ? eta -:--:--\n",
      "   ----------- ---------------------------- 30.7/106.5 kB 1.3 MB/s eta 0:00:01\n",
      "   ---------------------------------------- 106.5/106.5 kB 1.2 MB/s eta 0:00:00\n",
      "Downloading distro-1.9.0-py3-none-any.whl (20 kB)\n",
      "Installing collected packages: distro, groq, langchain-groq\n",
      "Successfully installed distro-1.9.0 groq-0.11.0 langchain-groq-0.2.1\n",
      "Note: you may need to restart the kernel to use updated packages.\n"
     ]
    }
   ],
   "source": [
    "pip install langchain-groq"
   ]
  },
  {
   "cell_type": "code",
   "execution_count": 5,
   "id": "8baea412",
   "metadata": {},
   "outputs": [
    {
     "data": {
      "text/plain": [
       "'The first person to land on the moon was Neil Armstrong. He stepped onto the lunar surface on July 20, 1969, as part of the Apollo 11 mission.'"
      ]
     },
     "execution_count": 5,
     "metadata": {},
     "output_type": "execute_result"
    }
   ],
   "source": [
    "from langchain_groq import ChatGroq\n",
    "\n",
    "llm = ChatGroq(\n",
    "    temperature=0,\n",
    "    groq_api_key='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',\n",
    "    model_name='llama-3.1-70b-versatile'\n",
    ")\n",
    "\n",
    "response = llm.invoke(\"The first peron to land on moon was ...\")\n",
    "response.content\n"
   ]
  },
  {
   "cell_type": "code",
   "execution_count": 6,
   "id": "da3de045",
   "metadata": {},
   "outputs": [
    {
     "data": {
      "text/plain": [
       "'\\n\\n\\n\\n\\nApplication Developer\\n\\n\\n\\n\\n\\n\\n\\n\\n\\n\\n\\n\\n\\n\\n\\n\\n\\n\\n\\n\\n\\n\\n\\n\\n\\n\\n\\n\\n\\n\\n\\n\\n\\n\\n\\n\\n\\n\\n\\n\\n\\n\\n\\n\\n\\n\\n\\n\\n\\n\\n\\n\\n\\n\\n\\n\\n\\n\\n\\n\\n\\n\\n\\n\\n\\n\\n\\n\\n\\n\\n\\n\\n\\n\\n\\n\\nSkip to main content\\nSkip to footer\\n\\n\\n\\n\\n\\n\\n\\n\\n\\n\\n\\n\\n\\n\\n\\n\\n\\n\\n\\n\\n\\n\\n\\n\\n\\n\\n\\n\\nInsights\\n\\n\\nServices\\n\\n\\n\\n\\n\\n\\n\\n\\n\\n\\n\\n\\n\\n\\n\\n\\n\\n\\nCloud\\n\\t\\t\\t  \\n\\t\\t  \\n\\n\\nCybersecurity\\n\\t\\t\\t  \\n\\t\\t  \\n\\n\\nData and Artificial Intelligence\\n\\t\\t\\t  \\n\\t\\t  \\n\\n\\nDigital Engineering and Manufacturing\\n\\t\\t\\t  \\n\\t\\t  \\n\\n\\nEmerging Technology\\n\\t\\t\\t  \\n\\t\\t  \\n\\n\\nEnterprise Platforms\\n\\t\\t\\t  \\n\\t\\t  \\n\\n\\nFinance and Risk Management\\n\\t\\t\\t  \\n\\t\\t  \\n\\n\\nLearning\\n\\t\\t\\t  \\n\\t\\t  \\n\\n\\nMarketing and Experience\\n\\t\\t\\t  \\n\\t\\t  \\n\\n\\nMetaverse\\n\\t\\t\\t  \\n\\t\\t  \\n\\n\\nPrivate Equity\\n\\t\\t\\t  \\n\\t\\t  \\n\\n\\nSales and Commerce\\n\\t\\t\\t  \\n\\t\\t  \\n\\n\\nStrategic Managed Services\\n\\t\\t\\t  \\n\\t\\t  \\n\\n\\nStrategy\\n\\t\\t\\t  \\n\\t\\t  \\n\\n\\nSupply Chain\\n\\t\\t\\t  \\n\\t\\t  \\n\\n\\nSustainability\\n\\t\\t\\t  \\n\\t\\t  \\n\\n\\nTalent and Organization\\n\\t\\t\\t  \\n\\t\\t  \\n\\n\\nTechnology Transformation\\n\\t\\t\\t  \\n\\t\\t  \\n\\n\\n\\n\\n\\n\\n\\n\\n\\n\\n\\n\\n\\n\\n\\n\\n\\n\\n\\n\\nIndustries\\n\\n\\n\\n\\n\\n\\n\\n\\n\\n\\n\\n\\n\\n\\n\\n\\n\\n\\nAerospace and Defense\\n\\t\\t\\t  \\n\\t\\t  \\n\\n\\nAutomotive\\n\\t\\t\\t  \\n\\t\\t  \\n\\n\\n Banking\\n\\t\\t\\t  \\n\\t\\t  \\n\\n\\n Capital Markets\\n\\t\\t\\t  \\n\\t\\t  \\n\\n\\nChemicals\\n\\t\\t\\t  \\n\\t\\t  \\n\\n\\n Communications and Media\\n\\t\\t\\t  \\n\\t\\t  \\n\\n\\n Consumer Goods and Services\\n\\t\\t\\t  \\n\\t\\t  \\n\\n\\n Energy\\n\\t\\t\\t  \\n\\t\\t  \\n\\n\\nHealth\\n\\t\\t\\t  \\n\\t\\t  \\n\\n\\n High Tech\\n\\t\\t\\t  \\n\\t\\t  \\n\\n\\n Industrial\\n\\t\\t\\t  \\n\\t\\t  \\n\\n\\n Insurance\\n\\t\\t\\t  \\n\\t\\t  \\n\\n\\nLife Sciences\\n\\t\\t\\t  \\n\\t\\t  \\n\\n\\nNatural Resources\\n\\t\\t\\t  \\n\\t\\t  \\n\\n\\n Public Service\\n\\t\\t\\t  \\n\\t\\t  \\n\\n\\n Retail\\n\\t\\t\\t  \\n\\t\\t  \\n\\n\\nSoftware and Platforms\\n\\t\\t\\t  \\n\\t\\t  \\n\\n\\n Travel\\n\\t\\t\\t  \\n\\t\\t  \\n\\n\\nUtilities\\n\\t\\t\\t  \\n\\t\\t  \\n\\n\\n\\n\\n\\n\\n\\n\\n\\n\\n\\n\\n\\n\\n\\n\\n\\n\\n\\n\\nCareers\\n\\n\\n\\n\\n\\n\\n\\n\\n\\n\\n\\n\\n\\n\\n\\n\\n\\n\\nCareers Home\\n\\t\\t\\t  \\n\\t\\t  \\n\\n\\nSearch Jobs\\n\\t\\t\\t  \\n\\t\\t  \\n\\n\\n\\n\\n\\n\\n\\n\\nJOIN US\\nJOIN US\\n\\nCareers\\n\\n\\nSearch and Apply\\n\\t\\t\\t  \\n\\t\\t  \\n\\n\\nExperienced Professionals\\n\\t\\t\\t  \\n\\t\\t  \\n\\n\\nTraining & Development\\n\\t\\t\\t  \\n\\t\\t  \\n\\n\\nWork Environment\\n\\t\\t\\t  \\n\\t\\t  \\n\\n\\n\\n\\n\\n\\n\\n\\nEXPLORE JOBS\\nEXPLORE JOBS\\n\\nCareers\\n\\n\\nSearch Jobs by Areas of Expertise\\n\\t\\t\\t  \\n\\t\\t  \\n\\n\\nConsulting Jobs\\n\\t\\t\\t  \\n\\t\\t  \\n\\n\\nCorporate Jobs\\n\\t\\t\\t  \\n\\t\\t  \\n\\n\\nDigital Jobs\\n\\t\\t\\t  \\n\\t\\t  \\n\\n\\nOperations Jobs\\n\\t\\t\\t  \\n\\t\\t  \\n\\n\\nStrategy Jobs\\n\\t\\t\\t  \\n\\t\\t  \\n\\n\\nTechnology Jobs\\n\\t\\t\\t  \\n\\t\\t  \\n\\n\\nIndustry X\\n\\t\\t\\t  \\n\\t\\t  \\n\\n\\n\\n\\n\\n\\n\\n\\n\\n\\n\\n\\n\\n\\n\\n\\n\\n\\n\\n\\nAbout Accenture\\n\\n\\n\\n\\n\\n\\n\\n\\n\\n\\n\\n\\n\\n\\n\\nWHO WE ARE\\nWHO WE ARE\\n\\nAbout Accenture\\n\\n\\nAbout Accenture\\n\\t\\t\\t  \\n\\t\\t  \\n\\n\\nLeadership\\n\\t\\t\\t  \\n\\t\\t  \\n\\n\\nHow We Work with Clients\\n\\t\\t\\t  \\n\\t\\t  \\n\\n\\nCase Studies\\n\\t\\t\\t  \\n\\t\\t  \\n\\n\\nNewsroom\\n\\t\\t\\t  \\n\\t\\t  \\n\\n\\nInvestor Relations\\n\\t\\t\\t  \\n\\t\\t  \\n\\n\\nInclusion & Diversity\\n\\t\\t\\t  \\n\\t\\t  \\n\\n\\n\\n\\n\\n\\n\\n\\nHow We\\'re Organized\\nHow We\\'re Organized\\n\\nAbout Accenture\\n\\n\\nStrategy and Consulting\\n\\t\\t\\t  \\n\\t\\t  \\n\\n\\nSong\\n\\t\\t\\t  \\n\\t\\t  \\n\\n\\nTechnology\\n\\t\\t\\t  \\n\\t\\t  \\n\\n\\nOperations\\n\\t\\t\\t  \\n\\t\\t  \\n\\n\\nIndustry X\\n\\t\\t\\t  \\n\\t\\t  \\n\\n\\n\\n\\n\\n\\n\\n\\n\\n\\n\\n\\n\\n\\n\\n\\n\\n\\n\\n\\n\\n\\n\\nContact Us\\n\\n\\nCareers\\n\\n\\nLocations\\n\\n\\nAccess Application\\n\\n\\nSaved Jobs\\n\\n\\n\\n\\n\\n\\nYour browser does not support JavaScript. Some\\n\\tcomponents may not be visible.\\n\\n\\n\\n\\n\\n\\n\\n\\n\\n\\n\\n\\n\\n\\n\\n\\n\\n\\n\\n\\n\\n\\n\\n\\n\\n\\nYour browser does not support JavaScript. Some\\n\\tcomponents may not be visible.\\n\\n\\n\\n\\n\\n\\nIndia\\n\\n\\n\\n\\n\\nDefault (English)\\nAll COUNTRIES & LANGUAGES\\n\\nArgentina (Spanish)\\n\\n\\nAustralia (English)\\n\\n\\nAustria (German) \\n\\n\\nBelgium (English)\\n\\n\\nBrazil (Portuguese)\\n\\n\\nBulgaria (English)\\n\\n\\nCanada (English)\\n\\n\\nCanada (French) \\n\\n\\nChile (Spanish)\\n\\n\\nChina/Hong Kong SAR (English)\\n\\n\\nChina/Mainland (Chinese)\\n\\n\\nChina/Mainland (English)\\n\\n\\nColombia (Spanish)\\n\\n\\nCosta Rica (English)\\n\\n\\nCzech Republic (English)\\n\\n\\nDenmark (English)\\n\\n\\nFinland (English)\\n\\n\\nFrance (French)\\n\\n\\nGermany (German)\\n\\n\\nGreece (English)\\n\\n\\nHungary (English)\\n\\n\\nIndia (English)\\n\\n\\nIndonesia (English)\\n\\n\\nIreland  (English)\\n\\n\\nIsrael (English)\\n\\n\\nItaly (Italian)\\n\\n\\nJapan (Japanese)\\n\\n\\nLatvia (English)\\n\\n\\nLuxembourg (English)\\n\\n\\nMalaysia (English)\\n\\n\\nMauritius (English)\\n\\n\\nMexico (Spanish)\\n\\n\\nNetherlands (English)\\n\\n\\nNew Zealand (English)\\n\\n\\nNorway (English)\\n\\n\\nPhilippines (English)\\n\\n\\nPoland (English)\\n\\n\\nPoland (Polish)\\n\\n\\nPortugal (Portuguese)\\n\\n\\nRomania (English)\\n\\n\\nSaudi Arabia (English)\\n\\n\\nSingapore (English)\\n\\n\\nSlovakia (Slovak)\\n\\n\\nSlovakia (English)\\n\\n\\nSouth Africa (English)\\n\\n\\nSpain (Spanish)\\n\\n\\nSweden (English)\\n\\n\\nSwitzerland (English)\\n\\n\\nSwitzerland (German)\\n\\n\\nThailand (English)\\n\\n\\nUAE (English)\\n\\n\\nUnited Kingdom (English)\\n\\n\\nUSA (English)\\n\\n\\n\\n\\n\\n\\n\\n\\n\\n\\n\\n\\n\\n\\n\\n\\n\\n\\n\\n\\n\\n\\n\\n\\n\\n\\n\\nBack to Previous Job\\n\\n\\n\\n\\n\\nNew Job Search\\n\\n\\n\\n\\n\\n\\n\\n\\nApplication Developer\\n\\n\\nBengaluru\\n\\nJob No. atci-4108940-s1594246\\n\\nFull-time\\n\\n\\n\\n\\nApply Now\\n\\n\\n\\nPlease be informed that at any given point in time, you can only have one \"Active\" application.\\n\\n\\n\\n\\n\\nSave Job\\n\\n\\nSaved Job\\n\\n\\n\\nRegister for Job Alerts\\n\\n\\n\\n\\n\\nShare\\n\\n\\n\\n\\n\\n\\n\\n\\n\\nShare\\n\\n\\n\\n\\n\\n\\n\\n\\n\\n\\n\\n\\n\\n\\n\\n\\n\\n\\nJob Link:\\n\\n\\nCopy\\n\\n\\n\\n\\n\\n\\n\\n\\n\\n\\ngo back to referred job\\n\\n\\n\\n\\nPlease be informed that at any given point in time, you can only have one \"Active\" application.\\n\\n\\n\\n\\n\\n\\n\\n\\n\\n\\n\\n\\n\\n\\n\\n\\n\\n\\n\\n\\n\\n\\n\\n\\n\\n\\n\\n\\n\\n\\n\\n\\n\\xa0 \\xa0 \\xa0 \\xa0 \\xa0\\xa0\\n\\n\\n\\n\\n\\n\\n\\n\\nThis job is no longer available. Continue your job search here.\\n\\n\\n\\n\\n\\n\\n\\n\\nOK\\n\\n\\n\\n\\n\\n\\n\\n\\n\\n\\n\\n\\n\\n\\n\\n\\n\\n\\n\\n\\n\\n\\n\\n\\n\\n\\n\\n\\n\\n\\n\\n\\n\\n\\n\\n\\n\\n\\n\\n\\n\\n\\n\\n\\n\\nJob Description\\n\\n\\n\\n\\n\\nProject Role : Application DeveloperProject Role Description : Design, build and configure applications to meet business process and application requirements.Must have skills : Machine LearningGood to have skills : NAMinimum 5 year(s) of experience is requiredEducational Qualification : Fulltime 15 years and aboveProject Role :\\nApplication Developer\\n\\nProject Role Description :\\nDesign, build and configure applications to meet business process and application requirements.\\n\\nMust have Skills :\\nMachine Learning\\n\\nGood to Have Skills :\\n No Technology Specialization\\n\\nJob Requirements :\\nKey Responsibilities :\\n: Creation, tracking and reporting of project status by working closely with Client 2:Use the different statistical, modelling techniques to increase and optimize the business outcomes 3:Mine and analyze the data using state of the arts methods Develop and implement custom data models and algorithms to apply to datasets 4:Should perform, know how to perform platform engineering Familiar with computer vision and NLP\\n\\nTechnical Experience :\\nMinimum 6 yrs of Google Big Query, Composer, Airflow, Vertex AI, Machine Learning, Deep Learning, Python, 1:Strong and hands-on in SQL, Strong understanding of Python data types and Object-oriented programming 2:Strong in Google Big Query, Composer, Airflow, and Vertex AI 3:Understanding of the Machine Learning algorithms Supervised, Semi-supervised and unsupervised 4:Understanding different integrations touch points in ML delivery 5:Should anchor Pilot, MVP, Production Machine learning use case\\n\\nProfessional Attributes :\\n1: Good communication 2: Good Leadership skills and team handling skills 3: Analytical skills, presentation skills, ability to work under pressure 4: Should be able to work in shifts whenever required\\n\\nEducational Qualification:\\nFulltime 15 years and above\\n\\nAdditional Info :\\n      \\t\\t\\n\\n\\n\\n\\n\\nshow more\\n\\n\\nshow less\\n\\n\\n\\n\\n\\n\\n\\n\\n\\nQualifications\\n\\n\\n\\n\\n\\n\\t\\t\\t\\tFulltime 15 years and above\\n\\t\\t\\t\\n\\n\\n\\n\\n\\n\\n\\n\\n\\n\\n\\nImportant Notice\\n\\n\\n\\n\\n\\n\\n\\nWe have been alerted to the existence of fraudulent messages asking job seekers to set up payment to cover various costs associated with establishing employment at Accenture. No one is ever required to pay for employment at Accenture. If you are contacted by someone asking for payment, please do not respond, and contact us at\\xa0india.fc.check@accenture.com\\xa0immediately.\\n\\n\\n\\n\\n\\n\\n\\n\\n\\nEqual Employment Opportunity Statement\\n\\n\\n\\n\\n\\n\\n\\n\\nAll employment decisions shall be made without regard to age, race, creed, color, religion, sex, national origin, ancestry, disability status, veteran status, sexual orientation, gender identity or expression, genetic information, marital status, citizenship status or any other basis as protected by federal, state, or local law.\\n\\xa0\\nJob candidates will not be obligated to disclose sealed or expunged records of conviction or arrest as part of the hiring process.\\n\\xa0\\nAccenture is committed to providing veteran employment opportunities to our service men and women.\\n\\xa0\\nPlease read Accenture’s\\xa0Recruiting and Hiring Statement\\xa0for more information on how we process your data during the Recruiting and Hiring process.\\n\\n\\n\\n\\n\\n\\n\\n\\n\\n\\n\\n\\n\\nApply Now\\n\\n\\n\\n Please be informed that at any given point in time, you can only have one \"Active\" application.\\n\\n\\n\\nRegister for Job Alerts\\n\\n\\n\\n\\n\\nShare\\n\\n\\n\\n\\n\\n\\n\\n\\n\\nShare\\n\\n\\n\\n\\n\\n\\n\\n\\n\\n\\n\\n\\n\\n\\n\\n\\n\\n\\nJob Link:\\n\\n\\nCopy\\n\\n\\n\\n\\n\\n\\n\\n\\n\\n\\n\\nPlease be informed that at any given point in time, you can only have one \"Active\" application.\\n\\n\\n\\n\\n\\n\\n\\n\\n\\n\\n\\n\\n\\n\\n\\n\\n\\n\\n\\nYour browser does not support JavaScript. Some\\n\\tcomponents may not be visible.\\n\\n\\n\\n\\n\\n\\n\\n\\n\\n\\n\\n\\n\\n\\n\\n\\n\\n\\n\\n\\n\\n\\n\\n\\n\\n\\n\\n\\n\\n\\nWhat people are saying about us\\n\\n\\n\\n\\n\\n\\n\\n\\n\\n\\n\\n\\n\\n\\t\\t\\n        \"Best Company to work with\"\\n    \\nCurrent Employee - Software Test Engineer in Bangalore\\n\\xa0\\nPros: best work place, flexible timing, work from home\\n\\nCons: Work life balance depends upon the project. Full Review\\n\\xa0\\nMORE ACCENTURE INDIA RATINGS & REVIEWS \\n\\n\\n\\n\\n\\n\\n\\n\\n\\n\\n\\n\\n\\n\\n\\n\\n\\n\\n\\n\\n\\n\\n\\n\\n\\n\\n\\n\\nLife at Accenture\\n\\n\\n\\n\\nWork where you\\'re inspired to explore your passions and where your talents are nurtured and cultivated. Innovate with leading-edge technologies on some of the coolest projects you can imagine.\\n\\n\\n\\n\\n\\n\\n\\n\\n\\n\\n\\n\\n\\n\\n\\n\\n\\n\\n\\n\\n\\n\\n\\n\\n\\n\\n\\t\\t\\n        Training and Development\\n    \\nTake time away to learn and learn all the time in our regional learning hubs, connected classrooms, online courses and learning boards.\\n\\n\\nLEARN MORE\\n\\n\\n\\n\\n\\n\\n\\n\\n\\n\\n\\n\\n\\n\\n\\n\\t\\t\\n        Work Environment\\n    \\nBe your best every day in a work environment that helps drive innovation in everything you do.\\n\\n\\nLEARN MORE\\n\\n\\n\\n\\n\\n\\n\\n\\n\\n\\n\\n\\n\\n\\n\\n\\n\\n\\n\\n\\n\\n\\n\\n\\n\\n\\n\\n\\nLearn more about Accenture\\n\\n\\n\\n\\nOur more than\\xa0742,000 people in more than 120 countries, combine unmatched experience and specialized skills across more than 40 industries. We embrace the power of change to create value and shared success for our clients, people, shareholders, partners and communities.\\n\\n\\n\\n\\n\\n\\n\\n\\n\\n\\n\\n\\n\\n\\n\\n\\n\\n\\n\\n\\n\\n\\n\\n\\n\\n\\n\\n\\nOur Expertise\\n\\nSee how we embrace the power of change to create value and shared success for our clients, people, shareholders, partners and communities.\\n\\nFIND OUT MORE\\n\\n\\n\\n\\n\\n\\n\\n\\n\\n\\n\\n\\n\\n\\n\\n\\n\\nMeet Our People\\n\\nFrom entry-level to leadership, across all business and industry segments, get to know our people harnessing technology to make a difference, every day.\\n\\n\\nFIND OUT MORE\\n\\n\\n\\n\\n\\n\\n\\n\\n\\n\\n\\n\\n\\n\\n\\n\\n\\n\\n\\n\\n\\n\\n\\n\\n\\n\\n\\n\\nStay connected\\n\\n\\n\\n\\n\\n\\n\\n\\n\\n\\n\\n\\n\\n\\n\\n\\n\\n\\n\\n\\n\\n\\n\\n\\n\\n\\n\\t\\t\\n        Join Our Team\\n    \\nSearch open positions that match your skills and interest. We look for passionate, curious, creative and solution-driven team players.\\n\\n\\nSEARCH ACCENTURE JOBS\\n\\n\\n\\n\\n\\n\\n\\n\\n\\n\\n\\n\\n\\n\\n\\n\\t\\t\\n        Keep Up to Date\\n    \\nStay ahead with careers tips, insider perspectives, and industry-leading insights you can put to use today–all from the people who work here.\\n\\n\\nREAD CAREERS BLOG\\n\\n\\n\\n\\n\\n\\n\\n\\n\\n\\n\\n\\n\\n\\n\\n\\t\\t\\n        Job Alert Emails\\n    \\nPersonalize your subscription to receive job alerts, latest news and insider tips tailored to your preferences. See what exciting and rewarding opportunities await.\\n\\n\\nREGISTER FOR JOB ALERTS\\n\\n\\n\\n\\n\\n\\n\\n\\n\\n\\n\\n\\n\\n\\n\\n\\n\\n\\n\\n\\n\\n\\n\\n\\n\\n\\n\\n\\n\\n\\nPlease enable Advertising and Social Media Cookies to be able to see this content.\\r\\nClick here to update your cookie settings.\\n\\n\\n\\n\\n\\n\\n\\n\\n\\n\\n\\n\\n\\n\\n\\n\\t        \\t\\t\\tAbout US\\n\\t        \\t\\t\\n\\n\\n\\n\\t        \\t\\t\\tContact US\\n\\t        \\t\\t\\n\\n\\n\\n\\t        \\t\\t\\tAlumni\\n\\t        \\t\\t\\n\\n\\n\\n\\t        \\t\\t\\tPRIVACY STATEMENT\\n\\t        \\t\\t\\n\\n\\n\\n\\n\\n\\n\\n\\n\\n\\n\\n\\n\\n\\n\\n\\n\\n\\n\\n\\n\\n\\n\\n\\n\\n\\n\\n\\n\\t        \\t\\t\\tRecruiting and Hiring Privacy Statement\\n\\t        \\t\\t\\n\\n\\n\\n\\t        \\t\\t\\tTerms & Conditions\\n\\t        \\t\\t\\n\\n\\n\\n\\t        \\t\\t\\tCookie Policy\\n\\t        \\t\\t\\n\\n\\n\\n\\t        \\t\\t\\tAccessibility Statement\\n\\t        \\t\\t\\n\\n\\n\\n\\t        \\t\\t\\tSitemap\\n\\t        \\t\\t\\n\\n\\n\\n\\t        \\t\\t\\tGlobal Meritocracy\\n\\t        \\t\\t\\n\\n\\n\\n\\t        \\t\\t\\tImportant Notice About Careers\\n\\t        \\t\\t\\n\\n\\n\\n\\t\\t\\t\\t    © 2024 Accenture. All Rights Reserved.\\n\\t\\t\\t\\t    \\n\\n\\n\\n\\n\\n\\n\\n\\n\\n\\n\\n\\n\\n\\n\\n\\n\\n\\n\\n'"
      ]
     },
     "execution_count": 6,
     "metadata": {},
     "output_type": "execute_result"
    }
   ],
   "source": [
    "from langchain_community.document_loaders import WebBaseLoader\n",
    "\n",
    "loader = WebBaseLoader(\"https://www.accenture.com/in-en/careers/jobdetails?id=ATCI-4108940-S1594246_en&title=Application%20Developer\")\n",
    "page_data= loader.load().pop().page_content\n",
    "page_data"
   ]
  },
  {
   "cell_type": "code",
   "execution_count": 7,
   "id": "fc2314cf",
   "metadata": {},
   "outputs": [
    {
     "data": {
      "text/plain": [
       "'[\\n  {\\n    \"role\": \"Application Developer\",\\n    \"experience\": \"Minimum 6 yrs\",\\n    \"skills\": \"Machine Learning, Google Big Query, Composer, Airflow, Vertex AI, Deep Learning, Python, SQL\",\\n    \"description\": \"Design, build and configure applications to meet business process and application requirements. Creation, tracking and reporting of project status by working closely with Client. Use the different statistical, modelling techniques to increase and optimize the business outcomes. Mine and analyze the data using state of the arts methods. Develop and implement custom data models and algorithms to apply to datasets. Perform platform engineering. Familiar with computer vision and NLP.\"\\n  }\\n]'"
      ]
     },
     "execution_count": 7,
     "metadata": {},
     "output_type": "execute_result"
    }
   ],
   "source": [
    "from langchain_core.prompts import PromptTemplate\n",
    "\n",
    "prompt_extract = PromptTemplate.from_template(\n",
    "    \"\"\"\n",
    "    ### SCRAPPED TEXT FROM THE WEBSITE:\n",
    "    {page_data}\n",
    "    ### INSTRUCTIONS :\n",
    "    The scraped text is from the career's page of a website.\n",
    "    Your job is to extract the job postings and return them in JSON format containing following keys:\n",
    "    'role' , 'experience' , 'skills ' and 'description'.\n",
    "    Only return the valid JSON.\n",
    "    ### Valid JSON (NO PREAMBLE)\n",
    "    \"\"\"\n",
    ")\n",
    "chain_extract = prompt_extract | llm\n",
    "res = chain_extract.invoke(input={'page_data':page_data})\n",
    "res.content"
   ]
  },
  {
   "cell_type": "code",
   "execution_count": 10,
   "id": "c7d20c39",
   "metadata": {},
   "outputs": [
    {
     "data": {
      "text/plain": [
       "[{'role': 'Application Developer',\n",
       "  'experience': 'Minimum 6 yrs',\n",
       "  'skills': 'Machine Learning, Google Big Query, Composer, Airflow, Vertex AI, Deep Learning, Python, SQL',\n",
       "  'description': 'Design, build and configure applications to meet business process and application requirements. Creation, tracking and reporting of project status by working closely with Client. Use the different statistical, modelling techniques to increase and optimize the business outcomes. Mine and analyze the data using state of the arts methods. Develop and implement custom data models and algorithms to apply to datasets. Perform platform engineering. Familiar with computer vision and NLP.'}]"
      ]
     },
     "execution_count": 10,
     "metadata": {},
     "output_type": "execute_result"
    }
   ],
   "source": [
    "from langchain_core.output_parsers import JsonOutputParser\n",
    "json_parser = JsonOutputParser()\n",
    "job = json_parser.parse(res.content)\n",
    "job"
   ]
  },
  {
   "cell_type": "code",
   "execution_count": 13,
   "id": "8b148b93",
   "metadata": {},
   "outputs": [
    {
     "data": {
      "text/plain": [
       "\"Subject: Application for [Job Title] - Bringing Data-Driven Insights to Drive Business Growth\\n\\nDear [Hiring Manager's Name],\\n\\nI came across the job description for [Job Title] at [Company Name] and was impressed by the company's commitment to leveraging data analytics to drive business growth. As a final-year student of BE (CSE) at LJ Institute of Engineering and Technology in Ahmedabad, I am confident that my skills and experience make me an ideal fit for this role.\\n\\nWith a strong foundation in data analytics, I have had the opportunity to work on various projects and internships that have honed my skills in data analysis, visualization, and interpretation. My experience as an intern at Ignitus and Compwallah has provided me with hands-on experience in working with real-world data and developing insights that drive business decisions.\\n\\nOne of my notable projects includes creating a resume analyzer that uses machine learning algorithms to analyze and provide feedback on resumes. I have also developed a chatbot that generates PDFs based on user input, and a cold email generator that uses natural language processing to craft personalized emails.\\n\\nI am excited about the prospect of joining [Company Name] and contributing my skills and experience to drive business growth. I am confident that my strong analytical skills, attention to detail, and ability to communicate complex insights effectively make me a strong candidate for this role.\\n\\nI would welcome the opportunity to discuss my application and how I can contribute to the success of [Company Name]. Please feel free to contact me at samarthsolanki1731@gmail.com or connect with me on LinkedIn at https://www.linkedin.com/in/samarthsolanki/.\\n\\nThank you for considering my application. I look forward to the opportunity to discuss this further.\\n\\nBest regards,\\n\\nSamarth Solanki\""
      ]
     },
     "execution_count": 13,
     "metadata": {},
     "output_type": "execute_result"
    }
   ],
   "source": [
    "prompt_email = PromptTemplate.from_template(\n",
    "        \"\"\"\n",
    "        ###JOB DESCRIPTION:\n",
    "        (job_description)\n",
    "        \n",
    "        ### INSTRUCTION:\n",
    "        You are Samarth Solanki studying at ljiet in ahmedabad currently in final year of BE(CSE).Samarth is excellent student\n",
    "        and highly skilled in data analytics with previous experience in previous internships at ignitus and compwallah as \n",
    "        well as doing high end projects such as creating an resume analyzer and creating a chat pdf and also creating a cold \n",
    "        email generator.\n",
    "        Your job is to write a cold email to the client regarding the job mentioned above and craft it in such a way that it \n",
    "        doeesnt seem ai generated and fullfill all the needs of the client.\n",
    "        also mention my email:samarthsolanki1731@gmail.com and my linked in portfolio as:https://www.linkedin.com/in/samarthsolanki/\n",
    "        in my contact details.Do not provide a preamble.\n",
    "        \n",
    "        ##EMAIL(NO PREAMBLE)\n",
    "\n",
    "        \"\"\"\n",
    ")\n",
    "chain_email = prompt_email | llm\n",
    "res = chain_email.invoke({\"job_description\":str(job)})\n",
    "res.content"
   ]
  }
 ],
 "metadata": {
  "kernelspec": {
   "display_name": "Python 3 (ipykernel)",
   "language": "python",
   "name": "python3"
  },
  "language_info": {
   "codemirror_mode": {
    "name": "ipython",
    "version": 3
   },
   "file_extension": ".py",
   "mimetype": "text/x-python",
   "name": "python",
   "nbconvert_exporter": "python",
   "pygments_lexer": "ipython3",
   "version": "3.11.4"
  }
 },
 "nbformat": 4,
 "nbformat_minor": 5
}
